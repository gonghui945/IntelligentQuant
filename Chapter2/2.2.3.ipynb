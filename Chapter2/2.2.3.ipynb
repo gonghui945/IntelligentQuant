{
 "cells": [
  {
   "cell_type": "code",
   "execution_count": 1,
   "id": "03923d16",
   "metadata": {},
   "outputs": [
    {
     "name": "stdout",
     "output_type": "stream",
     "text": [
      "Collecting yahoofinancials\n",
      "  Downloading yahoofinancials-1.16.tar.gz (41 kB)\n",
      "                                              0.0/41.6 kB ? eta -:--:--\n",
      "     ---------------------------------------- 41.6/41.6 kB 2.0 MB/s eta 0:00:00\n",
      "  Preparing metadata (setup.py): started\n",
      "  Preparing metadata (setup.py): finished with status 'done'\n",
      "Requirement already satisfied: pytz in c:\\users\\hg\\anaconda3\\lib\\site-packages (from yahoofinancials) (2022.7)\n",
      "Requirement already satisfied: requests>=2.26 in c:\\users\\hg\\anaconda3\\lib\\site-packages (from yahoofinancials) (2.31.0)\n",
      "Requirement already satisfied: charset-normalizer<4,>=2 in c:\\users\\hg\\anaconda3\\lib\\site-packages (from requests>=2.26->yahoofinancials) (2.0.4)\n",
      "Requirement already satisfied: idna<4,>=2.5 in c:\\users\\hg\\anaconda3\\lib\\site-packages (from requests>=2.26->yahoofinancials) (3.4)\n",
      "Requirement already satisfied: urllib3<3,>=1.21.1 in c:\\users\\hg\\anaconda3\\lib\\site-packages (from requests>=2.26->yahoofinancials) (1.26.16)\n",
      "Requirement already satisfied: certifi>=2017.4.17 in c:\\users\\hg\\anaconda3\\lib\\site-packages (from requests>=2.26->yahoofinancials) (2023.5.7)\n",
      "Building wheels for collected packages: yahoofinancials\n",
      "  Building wheel for yahoofinancials (setup.py): started\n",
      "  Building wheel for yahoofinancials (setup.py): finished with status 'done'\n",
      "  Created wheel for yahoofinancials: filename=yahoofinancials-1.16-py3-none-any.whl size=28777 sha256=ef294397b801a68e9186dd424bbe114b1ce2e56c7e2e5a2579a916e83e18cd21\n",
      "  Stored in directory: c:\\users\\hg\\appdata\\local\\pip\\cache\\wheels\\c1\\04\\d1\\f863e03477af705cc1dc5d66f3fd9a616a8b47770f35d5f651\n",
      "Successfully built yahoofinancials\n",
      "Installing collected packages: yahoofinancials\n",
      "Successfully installed yahoofinancials-1.16\n",
      "Note: you may need to restart the kernel to use updated packages.\n"
     ]
    }
   ],
   "source": [
    "pip install yahoofinancials"
   ]
  },
  {
   "cell_type": "code",
   "execution_count": 2,
   "id": "a7ad2edf",
   "metadata": {},
   "outputs": [
    {
     "name": "stdout",
     "output_type": "stream",
     "text": [
      "{'incomeStatementHistory': {'AAPL': [{'2019-09-30': {'netIncomeContinuousOperations': 55256000000.0, 'taxEffectOfUnusualItems': 0.0, 'netIncomeFromContinuingOperationNetMinorityInterest': 55256000000.0, 'totalOperatingIncomeAsReported': 63930000000.0, 'basicAverageShares': 18471336000.0, 'reconciledDepreciation': 12547000000.0, 'operatingExpense': 34462000000.0, 'totalRevenue': 260174000000.0, 'researchAndDevelopment': 16217000000.0, 'interestExpense': 3576000000.0, 'dilutedNIAvailtoComStockholders': 55256000000.0, 'netIncomeIncludingNoncontrollingInterests': 55256000000.0, 'normalizedEBITDA': 76477000000.0, 'grossProfit': 98392000000.0, 'basicEPS': 2.9925, 'otherNonOperatingIncomeExpenses': 1807000000.0, 'operatingRevenue': 260174000000.0, 'eBITDA': 76477000000.0, 'interestIncome': 4961000000.0, 'netNonOperatingInterestIncomeExpense': 1385000000.0, 'reconciledCostOfRevenue': 161782000000.0, 'taxRateForCalcs': 0.159438, 'netIncomeCommonStockholders': 55256000000.0, 'dilutedAverageShares': 18595652000.0, 'netIncome': 55256000000.0, 'ebit': 63930000000.0, 'normalizedIncome': 55256000000.0, 'costOfRevenue': 161782000000.0, 'pretaxIncome': 65737000000.0, 'taxProvision': 10481000000.0, 'interestIncomeNonOperating': 4961000000.0, 'sellingGeneralAndAdministration': 18245000000.0, 'otherIncomeExpense': 1807000000.0, 'operatingIncome': 63930000000.0, 'netIncomeFromContinuingAndDiscontinuedOperation': 55256000000.0, 'netInterestIncome': 1385000000.0, 'totalExpenses': 196244000000.0, 'interestExpenseNonOperating': 3576000000.0, 'dilutedEPS': 2.9725}}, {'2020-09-30': {'netIncomeContinuousOperations': 57411000000.0, 'taxEffectOfUnusualItems': 0.0, 'netIncomeFromContinuingOperationNetMinorityInterest': 57411000000.0, 'totalOperatingIncomeAsReported': 66288000000.0, 'basicAverageShares': 17352119000.0, 'reconciledDepreciation': 11056000000.0, 'operatingExpense': 38668000000.0, 'totalRevenue': 274515000000.0, 'researchAndDevelopment': 18752000000.0, 'interestExpense': 2873000000.0, 'dilutedNIAvailtoComStockholders': 57411000000.0, 'netIncomeIncludingNoncontrollingInterests': 57411000000.0, 'normalizedEBITDA': 77344000000.0, 'grossProfit': 104956000000.0, 'basicEPS': 3.31, 'otherNonOperatingIncomeExpenses': 803000000.0, 'operatingRevenue': 274515000000.0, 'eBITDA': 77344000000.0, 'interestIncome': 3763000000.0, 'netNonOperatingInterestIncomeExpense': 890000000.0, 'reconciledCostOfRevenue': 169559000000.0, 'taxRateForCalcs': 0.144282, 'netIncomeCommonStockholders': 57411000000.0, 'dilutedAverageShares': 17528214000.0, 'netIncome': 57411000000.0, 'ebit': 66288000000.0, 'normalizedIncome': 57411000000.0, 'costOfRevenue': 169559000000.0, 'pretaxIncome': 67091000000.0, 'taxProvision': 9680000000.0, 'interestIncomeNonOperating': 3763000000.0, 'sellingGeneralAndAdministration': 19916000000.0, 'otherIncomeExpense': 803000000.0, 'operatingIncome': 66288000000.0, 'netIncomeFromContinuingAndDiscontinuedOperation': 57411000000.0, 'netInterestIncome': 890000000.0, 'totalExpenses': 208227000000.0, 'interestExpenseNonOperating': 2873000000.0, 'dilutedEPS': 3.28}}, {'2021-09-30': {'netIncomeContinuousOperations': 94680000000.0, 'taxEffectOfUnusualItems': 0.0, 'netIncomeFromContinuingOperationNetMinorityInterest': 94680000000.0, 'totalOperatingIncomeAsReported': 108949000000.0, 'basicAverageShares': 16701272000.0, 'reconciledDepreciation': 11284000000.0, 'operatingExpense': 43887000000.0, 'totalRevenue': 365817000000.0, 'researchAndDevelopment': 21914000000.0, 'interestExpense': 2645000000.0, 'dilutedNIAvailtoComStockholders': 94680000000.0, 'netIncomeIncludingNoncontrollingInterests': 94680000000.0, 'normalizedEBITDA': 120233000000.0, 'grossProfit': 152836000000.0, 'basicEPS': 5.67, 'otherNonOperatingIncomeExpenses': 258000000.0, 'operatingRevenue': 365817000000.0, 'eBITDA': 120233000000.0, 'interestIncome': 2843000000.0, 'netNonOperatingInterestIncomeExpense': 198000000.0, 'reconciledCostOfRevenue': 212981000000.0, 'taxRateForCalcs': 0.133023, 'netIncomeCommonStockholders': 94680000000.0, 'dilutedAverageShares': 16864919000.0, 'netIncome': 94680000000.0, 'ebit': 108949000000.0, 'normalizedIncome': 94680000000.0, 'costOfRevenue': 212981000000.0, 'pretaxIncome': 109207000000.0, 'taxProvision': 14527000000.0, 'interestIncomeNonOperating': 2843000000.0, 'sellingGeneralAndAdministration': 21973000000.0, 'otherIncomeExpense': 258000000.0, 'operatingIncome': 108949000000.0, 'netIncomeFromContinuingAndDiscontinuedOperation': 94680000000.0, 'netInterestIncome': 198000000.0, 'totalExpenses': 256868000000.0, 'interestExpenseNonOperating': 2645000000.0, 'dilutedEPS': 5.61}}, {'2022-09-30': {'netIncomeContinuousOperations': 99803000000.0, 'taxEffectOfUnusualItems': 0.0, 'netIncomeFromContinuingOperationNetMinorityInterest': 99803000000.0, 'totalOperatingIncomeAsReported': 119437000000.0, 'basicAverageShares': 16215963000.0, 'reconciledDepreciation': 11104000000.0, 'operatingExpense': 51345000000.0, 'totalRevenue': 394328000000.0, 'researchAndDevelopment': 26251000000.0, 'interestExpense': 2931000000.0, 'dilutedNIAvailtoComStockholders': 99803000000.0, 'netIncomeIncludingNoncontrollingInterests': 99803000000.0, 'normalizedEBITDA': 130541000000.0, 'grossProfit': 170782000000.0, 'basicEPS': 6.15, 'otherNonOperatingIncomeExpenses': -334000000.0, 'operatingRevenue': 394328000000.0, 'eBITDA': 130541000000.0, 'interestIncome': 2825000000.0, 'netNonOperatingInterestIncomeExpense': -106000000.0, 'reconciledCostOfRevenue': 223546000000.0, 'taxRateForCalcs': 0.162045, 'netIncomeCommonStockholders': 99803000000.0, 'dilutedAverageShares': 16325819000.0, 'netIncome': 99803000000.0, 'ebit': 119437000000.0, 'normalizedIncome': 99803000000.0, 'costOfRevenue': 223546000000.0, 'pretaxIncome': 119103000000.0, 'taxProvision': 19300000000.0, 'interestIncomeNonOperating': 2825000000.0, 'sellingGeneralAndAdministration': 25094000000.0, 'otherIncomeExpense': -334000000.0, 'operatingIncome': 119437000000.0, 'netIncomeFromContinuingAndDiscontinuedOperation': 99803000000.0, 'netInterestIncome': -106000000.0, 'totalExpenses': 274891000000.0, 'interestExpenseNonOperating': 2931000000.0, 'dilutedEPS': 6.11}}, {'2023-06-30': {'totalOperatingIncomeAsReported': 112226000000.0, 'netIncomeFromContinuingOperationNetMinorityInterest': 94760000000.0, 'taxEffectOfUnusualItems': 0.0, 'reconciledDepreciation': 11731000000.0, 'normalizedEBITDA': 126884000000.0, 'operatingRevenue': 383933000000.0, 'netIncomeIncludingNoncontrollingInterests': 94760000000.0, 'sellingGeneralAndAdministration': 25221000000.0, 'otherNonOperatingIncomeExpenses': -592000000.0, 'interestIncome': 3519000000.0, 'researchAndDevelopment': 29369000000.0, 'costOfRevenue': 217117000000.0, 'dilutedNIAvailtoComStockholders': 94760000000.0, 'netIncome': 94760000000.0, 'ebit': 115153000000.0, 'operatingExpense': 54590000000.0, 'netIncomeContinuousOperations': 94760000000.0, 'normalizedIncome': 94760000000.0, 'netIncomeCommonStockholders': 94760000000.0, 'netNonOperatingInterestIncomeExpense': -239000000.0, 'taxRateForCalcs': 0.149333, 'totalExpenses': 271707000000.0, 'reconciledCostOfRevenue': 217117000000.0, 'pretaxIncome': 111395000000.0, 'netInterestIncome': -239000000.0, 'interestIncomeNonOperating': 3519000000.0, 'grossProfit': 166816000000.0, 'eBITDA': 126884000000.0, 'operatingIncome': 112226000000.0, 'interestExpenseNonOperating': 3758000000.0, 'otherIncomeExpense': -592000000.0, 'netIncomeFromContinuingAndDiscontinuedOperation': 94760000000.0, 'totalRevenue': 383933000000.0, 'interestExpense': 3758000000.0, 'taxProvision': 16635000000.0}}]}}\n"
     ]
    }
   ],
   "source": [
    "from yahoofinancials import YahooFinancials\n",
    "# 实例化一个 YahooFinancials 对象\n",
    "yahoo_financials = YahooFinancials('AAPL')\n",
    "# 获取财务摘要数据\n",
    "financial_summary = yahoo_financials.get_financial_stmts('annual', 'income')\n",
    "# 输出财务摘要数据\n",
    "print(financial_summary)"
   ]
  },
  {
   "cell_type": "code",
   "execution_count": null,
   "id": "a280dec9",
   "metadata": {},
   "outputs": [],
   "source": []
  }
 ],
 "metadata": {
  "kernelspec": {
   "display_name": "Python 3 (ipykernel)",
   "language": "python",
   "name": "python3"
  },
  "language_info": {
   "codemirror_mode": {
    "name": "ipython",
    "version": 3
   },
   "file_extension": ".py",
   "mimetype": "text/x-python",
   "name": "python",
   "nbconvert_exporter": "python",
   "pygments_lexer": "ipython3",
   "version": "3.11.3"
  }
 },
 "nbformat": 4,
 "nbformat_minor": 5
}
