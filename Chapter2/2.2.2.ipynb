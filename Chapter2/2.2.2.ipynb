{
 "cells": [
  {
   "cell_type": "code",
   "execution_count": 1,
   "id": "a671b502",
   "metadata": {},
   "outputs": [
    {
     "name": "stdout",
     "output_type": "stream",
     "text": [
      "Requirement already satisfied: yfinance in c:\\users\\hg\\anaconda3\\lib\\site-packages (0.2.26)\n",
      "Requirement already satisfied: pandas>=1.3.0 in c:\\users\\hg\\anaconda3\\lib\\site-packages (from yfinance) (1.5.3)\n",
      "Requirement already satisfied: numpy>=1.16.5 in c:\\users\\hg\\anaconda3\\lib\\site-packages (from yfinance) (1.24.3)\n",
      "Requirement already satisfied: requests>=2.31 in c:\\users\\hg\\anaconda3\\lib\\site-packages (from yfinance) (2.31.0)\n",
      "Requirement already satisfied: multitasking>=0.0.7 in c:\\users\\hg\\anaconda3\\lib\\site-packages (from yfinance) (0.0.11)\n",
      "Requirement already satisfied: lxml>=4.9.1 in c:\\users\\hg\\anaconda3\\lib\\site-packages (from yfinance) (4.9.2)\n",
      "Requirement already satisfied: appdirs>=1.4.4 in c:\\users\\hg\\anaconda3\\lib\\site-packages (from yfinance) (1.4.4)\n",
      "Requirement already satisfied: pytz>=2022.5 in c:\\users\\hg\\anaconda3\\lib\\site-packages (from yfinance) (2022.7)\n",
      "Requirement already satisfied: frozendict>=2.3.4 in c:\\users\\hg\\anaconda3\\lib\\site-packages (from yfinance) (2.3.8)\n",
      "Requirement already satisfied: beautifulsoup4>=4.11.1 in c:\\users\\hg\\anaconda3\\lib\\site-packages (from yfinance) (4.12.2)\n",
      "Requirement already satisfied: html5lib>=1.1 in c:\\users\\hg\\anaconda3\\lib\\site-packages (from yfinance) (1.1)\n",
      "Requirement already satisfied: soupsieve>1.2 in c:\\users\\hg\\anaconda3\\lib\\site-packages (from beautifulsoup4>=4.11.1->yfinance) (2.4)\n",
      "Requirement already satisfied: six>=1.9 in c:\\users\\hg\\anaconda3\\lib\\site-packages (from html5lib>=1.1->yfinance) (1.16.0)\n",
      "Requirement already satisfied: webencodings in c:\\users\\hg\\anaconda3\\lib\\site-packages (from html5lib>=1.1->yfinance) (0.5.1)\n",
      "Requirement already satisfied: python-dateutil>=2.8.1 in c:\\users\\hg\\anaconda3\\lib\\site-packages (from pandas>=1.3.0->yfinance) (2.8.2)\n",
      "Requirement already satisfied: charset-normalizer<4,>=2 in c:\\users\\hg\\anaconda3\\lib\\site-packages (from requests>=2.31->yfinance) (2.0.4)\n",
      "Requirement already satisfied: idna<4,>=2.5 in c:\\users\\hg\\anaconda3\\lib\\site-packages (from requests>=2.31->yfinance) (3.4)\n",
      "Requirement already satisfied: urllib3<3,>=1.21.1 in c:\\users\\hg\\anaconda3\\lib\\site-packages (from requests>=2.31->yfinance) (1.26.16)\n",
      "Requirement already satisfied: certifi>=2017.4.17 in c:\\users\\hg\\anaconda3\\lib\\site-packages (from requests>=2.31->yfinance) (2023.5.7)\n",
      "Note: you may need to restart the kernel to use updated packages.\n"
     ]
    }
   ],
   "source": [
    "pip install yfinance"
   ]
  },
  {
   "cell_type": "code",
   "execution_count": 2,
   "id": "c2699dec",
   "metadata": {},
   "outputs": [
    {
     "name": "stdout",
     "output_type": "stream",
     "text": [
      "[*********************100%***********************]  1 of 1 completed\n",
      "The closing prices are:\n",
      "Date\n",
      "2023-01-03    125.070000\n",
      "2023-01-04    126.360001\n",
      "2023-01-05    125.019997\n",
      "2023-01-06    129.619995\n",
      "2023-01-09    130.149994\n",
      "                 ...    \n",
      "2023-06-26    185.270004\n",
      "2023-06-27    188.059998\n",
      "2023-06-28    189.250000\n",
      "2023-06-29    189.589996\n",
      "2023-06-30    193.970001\n",
      "Name: Close, Length: 124, dtype: float64\n"
     ]
    }
   ],
   "source": [
    "import yfinance as yf\n",
    "def get_closing_prices(symbol, start_date, end_date):\n",
    "    # 下载数据\n",
    "    data = yf.download(symbol, start=start_date, end=end_date)\n",
    "    if data.empty:\n",
    "        print(f'No data for symbol {symbol} between {start_date} and {end_date}')\n",
    "        return None\n",
    "    # 提取每日收盘价格\n",
    "    closing_prices = data['Close']\n",
    "    return closing_prices\n",
    "# 用股票符号AAPL（代表苹果公司）获取数据\n",
    "closing_prices = get_closing_prices('AAPL', '2023-01-01', '2023-07-01')\n",
    "if closing_prices is not None:\n",
    "    print(f'The closing prices are:')\n",
    "    print(closing_prices)\n",
    "else:\n",
    "    print('Failed to get closing prices.')"
   ]
  },
  {
   "cell_type": "code",
   "execution_count": null,
   "id": "87569f3b",
   "metadata": {},
   "outputs": [],
   "source": []
  }
 ],
 "metadata": {
  "kernelspec": {
   "display_name": "Python 3 (ipykernel)",
   "language": "python",
   "name": "python3"
  },
  "language_info": {
   "codemirror_mode": {
    "name": "ipython",
    "version": 3
   },
   "file_extension": ".py",
   "mimetype": "text/x-python",
   "name": "python",
   "nbconvert_exporter": "python",
   "pygments_lexer": "ipython3",
   "version": "3.11.3"
  }
 },
 "nbformat": 4,
 "nbformat_minor": 5
}
